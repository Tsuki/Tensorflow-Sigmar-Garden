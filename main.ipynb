{
 "cells": [
  {
   "cell_type": "code",
   "execution_count": 1,
   "metadata": {
    "collapsed": false
   },
   "outputs": [
    {
     "name": "stderr",
     "output_type": "stream",
     "text": [
      "/Users/tsukatsuki/.pyenv/versions/anaconda3-5.0.1/envs/anaconda/lib/python3.6/importlib/_bootstrap.py:219: RuntimeWarning: compiletime version 3.5 of module 'tensorflow.python.framework.fast_tensor_util' does not match runtime version 3.6\n  return f(*args, **kwds)\n"
     ]
    },
    {
     "name": "stdout",
     "output_type": "stream",
     "text": [
      "INFO:tensorflow:Using config: {'_task_type': None, '_task_id': 0, '_cluster_spec': <tensorflow.python.training.server_lib.ClusterSpec object at 0x1a1c5b4e48>, '_master': '', '_num_ps_replicas': 0, '_num_worker_replicas': 0, '_environment': 'local', '_is_chief': True, '_evaluation_master': '', '_tf_config': gpu_options {\n  per_process_gpu_memory_fraction: 1\n}\n, '_tf_random_seed': None, '_save_summary_steps': 100, '_save_checkpoints_secs': 600, '_log_step_count_steps': 100, '_session_config': None, '_save_checkpoints_steps': None, '_keep_checkpoint_max': 5, '_keep_checkpoint_every_n_hours': 10000, '_model_dir': './mnist_training'}\n"
     ]
    },
    {
     "name": "stdout",
     "output_type": "stream",
     "text": [
      "WARNING:tensorflow:From /Users/tsukatsuki/PycharmProjects/Tensorflow-Sigmar-Garden/testing2.py:532: Dataset.from_tensor_slices (from tensorflow.contrib.data.python.ops.dataset_ops) is deprecated and will be removed in a future version.\nInstructions for updating:\nUse `tf.data.Dataset.from_tensor_slices()`.\n"
     ]
    },
    {
     "name": "stdout",
     "output_type": "stream",
     "text": [
      "WARNING:tensorflow:Input graph does not contain a QueueRunner. That means predict yields forever. This is probably a mistake.\n"
     ]
    },
    {
     "name": "stdout",
     "output_type": "stream",
     "text": [
      "INFO:tensorflow:Restoring parameters from ./mnist_training/model.ckpt-1000\n"
     ]
    },
    {
     "name": "stdout",
     "output_type": "stream",
     "text": [
      "     e Q a v e a \n    - - - - a w - \n   - Q s f L s - - \n  - - w - a - w - - \n - - e w s - e I a - \nf m Q - - G e - a - Q \n f Q m w f - f f - v \n  S - w - w - m - a \n   e - f v a f T e \n    v - s - - w m \n     C - - - - e \n"
     ]
    }
   ],
   "source": [
    "import os\n",
    "\n",
    "from PIL import Image\n",
    "from matplotlib.pyplot import imshow\n",
    "\n",
    "import main\n",
    "from Marble import Marble\n",
    "\n",
    "MARBLE_BY_SYMBOL = dict(zip([Marble.symbol(e) for e in Marble], [e.name for e in Marble]))\n",
    "\n",
    "status = main.init_image(Image.open(os.path.join(\"sample\", \"1.png\")).convert('LA'))\n",
    "print(status)\n"
   ]
  },
  {
   "cell_type": "code",
   "execution_count": 2,
   "metadata": {},
   "outputs": [
    {
     "name": "stdout",
     "output_type": "stream",
     "text": [
      "def neighbors\n['-', 'Q', '-', '-', '-', '-']\n"
     ]
    }
   ],
   "source": [
    "print(\"def neighbors\")\n",
    "x, y = 0, 0\n",
    "result = []\n",
    "for (dx, dy) in [(0, -1), (1, 0), (1, 1), (0, 1), (-1, 0), (-1, -1)]:\n",
    "    n = (x + dx, y + dy)\n",
    "    if n in status.state:\n",
    "        result.append(status.state[n])\n",
    "    else:\n",
    "        result.append('-')\n",
    "print(result)\n"
   ]
  },
  {
   "cell_type": "code",
   "execution_count": 3,
   "metadata": {},
   "outputs": [
    {
     "name": "stdout",
     "output_type": "stream",
     "text": [
      "def free\n['-' '-' 'Q' 'Q' '-' '-' '-' '-' '-' '-' '-' '-']\n[('-', '-', 'Q'), ('-', 'Q', 'Q'), ('Q', 'Q', '-'), ('Q', '-', '-'), ('-', '-', '-'), ('-', '-', '-'), ('-', '-', '-'), ('-', '-', '-'), ('-', '-', '-'), ('-', '-', '-')]\nTrue\n"
     ]
    }
   ],
   "source": [
    "import numpy as np\n",
    "\n",
    "print(\"def free\")\n",
    "neg = np.repeat(status.neighbors(x, y), 2)\n",
    "xs = np.hstack(neg)\n",
    "print(xs)\n",
    "print(list(zip(*(xs[i:] for i in range(3)))))\n",
    "print(('-', '-', '-') in list(zip(*(xs[i:] for i in range(3)))))\n"
   ]
  },
  {
   "cell_type": "code",
   "execution_count": 4,
   "metadata": {},
   "outputs": [
    {
     "name": "stdout",
     "output_type": "stream",
     "text": [
      "def frees\n[(0, 0), (5, 0), (1, 2), (8, 4), (0, 5), (10, 5), (6, 9), (5, 10), (10, 10)]\n"
     ]
    }
   ],
   "source": [
    "print(\"def frees\")\n",
    "result = []\n",
    "for (x, y) in status.state:\n",
    "    if status.free(x, y):\n",
    "        result.append((x, y))\n",
    "print(result)\n"
   ]
  },
  {
   "cell_type": "code",
   "execution_count": 5,
   "metadata": {
    "collapsed": false
   },
   "outputs": [],
   "source": [
    "def step(state):\n",
    "    # for Quintessence use\n",
    "    buckets = {}\n",
    "    frees = sorted([(Marble[MARBLE_BY_SYMBOL[state.state[x]]], x) for x in state.frees()])\n",
    "    for (k, v) in frees:\n",
    "        buckets.setdefault(k, []).append(v)\n",
    "    print(\"frees\")\n",
    "    for a in frees:\n",
    "        (marbleA, posA) = a\n",
    "        for b in frees:\n",
    "            (marbleB, posB) = b\n",
    "            if a == b:\n",
    "                continue\n",
    "            elif marbleA.value in range(Marble.Salt.value, Marble.Earth.value + 1):\n",
    "                if marbleB == marbleA or marbleB == Marble.Salt:\n",
    "                    yield {posA, posB}\n",
    "            elif marbleA.value in range(Marble.Vitae.value, Marble.Mors.value + 1):\n",
    "                if marbleB.value in range(Marble.Vitae.value, Marble.Mors.value + 1) and marbleA != marbleB:\n",
    "                    yield {posA, posB}\n",
    "            elif marbleA.value in range(Marble.Tin.value, Marble.Silver.value + 1):\n",
    "                if marbleB == Marble.Quicksilver and marbleA.previous() not in state.keyState:\n",
    "                    yield {posA, posB}\n",
    "            elif marbleA == Marble.Lead and marbleB == Marble.Quicksilver:\n",
    "                yield {posA, posB}\n",
    "            elif marbleA == Marble.Gold:\n",
    "                yield {posA}\n",
    "            elif marbleA == Marble.Quintessence:\n",
    "                continue\n",
    "            elif marbleA == Marble.Quicksilver:\n",
    "                continue\n",
    "            else:\n",
    "                print(marbleA, marbleB)"
   ]
  },
  {
   "cell_type": "code",
   "execution_count": 6,
   "metadata": {
    "collapsed": true
   },
   "outputs": [
    {
     "name": "stdout",
     "output_type": "stream",
     "text": [
      "{\"{(0, 0): 'e', (1, 0): 'Q', (2, 0): 'a', (3, 0): 'v', (4, 0): 'e', (5, 0): 'a', (4, 1): 'a', (5, 1): 'w', (1, 2): 'Q', (2, 2): 's', (3, 2): 'f', (4, 2): 'L', (5, 2): 's', (2, 3): 'w', (4, 3): 'a', (6, 3): 'w', (2, 4): 'e', (3, 4): 'w', (4, 4): 's', (6, 4): 'e', (7, 4): 'I', (8, 4): 'a', (0, 5): 'f', (1, 5): 'm', (2, 5): 'Q', (5, 5): 'G', (6, 5): 'e', (8, 5): 'a', (10, 5): 'Q', (1, 6): 'f', (2, 6): 'Q', (3, 6): 'm', (4, 6): 'w', (5, 6): 'f', (7, 6): 'f', (8, 6): 'f', (10, 6): 'v', (2, 7): 'S', (4, 7): 'w', (6, 7): 'w', (8, 7): 'm', (10, 7): 'a', (3, 8): 'e', (5, 8): 'f', (6, 8): 'v', (7, 8): 'a', (8, 8): 'f', (9, 8): 'T', (10, 8): 'e', (4, 9): 'v', (6, 9): 's', (9, 9): 'w', (10, 9): 'm', (5, 10): 'C', (10, 10): 'e'}\": []}\n{(0, 0): 'e', (1, 0): 'Q', (2, 0): 'a', (3, 0): 'v', (4, 0): 'e', (5, 0): 'a', (4, 1): 'a', (5, 1): 'w', (1, 2): 'Q', (2, 2): 's', (3, 2): 'f', (4, 2): 'L', (5, 2): 's', (2, 3): 'w', (4, 3): 'a', (6, 3): 'w', (2, 4): 'e', (3, 4): 'w', (4, 4): 's', (6, 4): 'e', (7, 4): 'I', (8, 4): 'a', (0, 5): 'f', (1, 5): 'm', (2, 5): 'Q', (5, 5): 'G', (6, 5): 'e', (8, 5): 'a', (10, 5): 'Q', (1, 6): 'f', (2, 6): 'Q', (3, 6): 'm', (4, 6): 'w', (5, 6): 'f', (7, 6): 'f', (8, 6): 'f', (10, 6): 'v', (2, 7): 'S', (4, 7): 'w', (6, 7): 'w', (8, 7): 'm', (10, 7): 'a', (3, 8): 'e', (5, 8): 'f', (6, 8): 'v', (7, 8): 'a', (8, 8): 'f', (9, 8): 'T', (10, 8): 'e', (4, 9): 'v', (6, 9): 's', (9, 9): 'w', (10, 9): 'm', (5, 10): 'C', (10, 10): 'e'}\n{\"{(0, 0): 'e', (1, 0): 'Q', (2, 0): 'a', (3, 0): 'v', (4, 0): 'e', (5, 0): 'a', (4, 1): 'a', (5, 1): 'w', (1, 2): 'Q', (2, 2): 's', (3, 2): 'f', (4, 2): 'L', (5, 2): 's', (2, 3): 'w', (4, 3): 'a', (6, 3): 'w', (2, 4): 'e', (3, 4): 'w', (4, 4): 's', (6, 4): 'e', (7, 4): 'I', (8, 4): 'a', (0, 5): 'f', (1, 5): 'm', (2, 5): 'Q', (5, 5): 'G', (6, 5): 'e', (8, 5): 'a', (10, 5): 'Q', (1, 6): 'f', (2, 6): 'Q', (3, 6): 'm', (4, 6): 'w', (5, 6): 'f', (7, 6): 'f', (8, 6): 'f', (10, 6): 'v', (2, 7): 'S', (4, 7): 'w', (6, 7): 'w', (8, 7): 'm', (10, 7): 'a', (3, 8): 'e', (5, 8): 'f', (6, 8): 'v', (7, 8): 'a', (8, 8): 'f', (9, 8): 'T', (10, 8): 'e', (4, 9): 'v', (6, 9): 's', (9, 9): 'w', (10, 9): 'm', (5, 10): 'C', (10, 10): 'e'}\": []}\n{(1, 0): 'Q', (2, 0): 'a', (3, 0): 'v', (4, 0): 'e', (4, 1): 'a', (5, 1): 'w', (1, 2): 'Q', (2, 2): 's', (3, 2): 'f', (4, 2): 'L', (5, 2): 's', (2, 3): 'w', (4, 3): 'a', (6, 3): 'w', (2, 4): 'e', (3, 4): 'w', (4, 4): 's', (6, 4): 'e', (7, 4): 'I', (1, 5): 'm', (2, 5): 'Q', (5, 5): 'G', (6, 5): 'e', (8, 5): 'a', (10, 5): 'Q', (1, 6): 'f', (2, 6): 'Q', (3, 6): 'm', (4, 6): 'w', (5, 6): 'f', (7, 6): 'f', (8, 6): 'f', (10, 6): 'v', (2, 7): 'S', (4, 7): 'w', (6, 7): 'w', (8, 7): 'm', (10, 7): 'a', (3, 8): 'e', (5, 8): 'f', (6, 8): 'v', (7, 8): 'a', (8, 8): 'f', (9, 8): 'T', (10, 8): 'e', (4, 9): 'v', (9, 9): 'w', (10, 9): 'm', (5, 10): 'C'}\n1\n"
     ]
    }
   ],
   "source": [
    "from copy import deepcopy\n",
    "\n",
    "def solve(self):\n",
    "    todo = [self]\n",
    "    solutions = {str(self.state): []}\n",
    "    print(solutions)\n",
    "    print(str(self.state))\n",
    "    while len(solutions) > 0:\n",
    "        # eval\n",
    "        cur_state = sorted(todo, key=lambda x: dict.__len__)[0]\n",
    "        todo.remove(cur_state)\n",
    "        for _step in cur_state.step():\n",
    "            state = deepcopy(cur_state)\n",
    "            for pos in _step:\n",
    "                state.state.pop(pos) if pos in state.state else ()\n",
    "        \n",
    "        print(solutions)\n",
    "        print(str(self.state))\n",
    "        # solutions.pop(str(self.state))\n",
    "        print(len(solutions))\n",
    "        break\n",
    "        # cur_state = \n",
    "        # continue\n",
    "\n",
    "\n",
    "solve(status)\n"
   ]
  },
  {
   "cell_type": "code",
   "execution_count": 7,
   "metadata": {},
   "outputs": [],
   "source": []
  }
 ],
 "metadata": {
  "kernelspec": {
   "display_name": "Python 2",
   "language": "python",
   "name": "python2"
  },
  "language_info": {
   "codemirror_mode": {
    "name": "ipython",
    "version": 2
   },
   "file_extension": ".py",
   "mimetype": "text/x-python",
   "name": "python",
   "nbconvert_exporter": "python",
   "pygments_lexer": "ipython2",
   "version": "2.7.6"
  }
 },
 "nbformat": 4,
 "nbformat_minor": 0
}
