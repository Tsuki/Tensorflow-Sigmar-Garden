{
 "cells": [
  {
   "cell_type": "code",
   "execution_count": 2,
   "metadata": {
    "collapsed": false
   },
   "outputs": [
    {
     "name": "stdout",
     "output_type": "stream",
     "text": [
      "WARNING:tensorflow:Input graph does not contain a QueueRunner. That means predict yields forever. This is probably a mistake.\n"
     ]
    },
    {
     "name": "stdout",
     "output_type": "stream",
     "text": [
      "INFO:tensorflow:Restoring parameters from ./mnist_training/model.ckpt-1000\n"
     ]
    },
    {
     "name": "stdout",
     "output_type": "stream",
     "text": [
      "     e Q a v e a \n    - - - - a w - \n   - Q s f L s - - \n  - - w - a - w - - \n - - e w s - e I a - \nf m Q - - G e - a - Q \n f Q m w f - f f - v \n  S - w - w - m - a \n   e - f v a f T e \n    v - s - - w m \n     C - - - - e \n"
     ]
    }
   ],
   "source": [
    "import os\n",
    "\n",
    "from PIL import Image\n",
    "from matplotlib.pyplot import imshow\n",
    "\n",
    "import main\n",
    "from Marble import Marble\n",
    "\n",
    "MARBLE_BY_SYMBOL = dict(zip([Marble.symbol(e) for e in Marble], [e.name for e in Marble]))\n",
    "\n",
    "status = main.init_image(Image.open(os.path.join(\"sample\", \"1.png\")).convert('LA'))\n",
    "print(status)\n"
   ]
  },
  {
   "cell_type": "code",
   "execution_count": 3,
   "metadata": {},
   "outputs": [
    {
     "name": "stdout",
     "output_type": "stream",
     "text": [
      "def neighbors\n['-', 'Q', '-', '-', '-', '-']\n"
     ]
    }
   ],
   "source": [
    "print(\"def neighbors\")\n",
    "x, y = 0, 0\n",
    "result = []\n",
    "for (dx, dy) in [(0, -1), (1, 0), (1, 1), (0, 1), (-1, 0), (-1, -1)]:\n",
    "    n = (x + dx, y + dy)\n",
    "    if n in status.state:\n",
    "        result.append(status.state[n])\n",
    "    else:\n",
    "        result.append('-')\n",
    "print(result)\n"
   ]
  },
  {
   "cell_type": "code",
   "execution_count": 4,
   "metadata": {},
   "outputs": [
    {
     "name": "stdout",
     "output_type": "stream",
     "text": [
      "def free\n['-' '-' 'Q' 'Q' '-' '-' '-' '-' '-' '-' '-' '-']\n[('-', '-', 'Q'), ('-', 'Q', 'Q'), ('Q', 'Q', '-'), ('Q', '-', '-'), ('-', '-', '-'), ('-', '-', '-'), ('-', '-', '-'), ('-', '-', '-'), ('-', '-', '-'), ('-', '-', '-')]\nTrue\n"
     ]
    }
   ],
   "source": [
    "import numpy as np\n",
    "\n",
    "from State import neighbors\n",
    "\n",
    "print(\"def free\")\n",
    "neg = np.repeat(neighbors(status.state, x, y), 2)\n",
    "xs = np.hstack(neg)\n",
    "print(xs)\n",
    "print(list(zip(*(xs[i:] for i in range(3)))))\n",
    "print(('-', '-', '-') in list(zip(*(xs[i:] for i in range(3)))))\n"
   ]
  },
  {
   "cell_type": "code",
   "execution_count": 5,
   "metadata": {},
   "outputs": [
    {
     "name": "stdout",
     "output_type": "stream",
     "text": [
      "def frees\n[(0, 0), (5, 0), (1, 2), (8, 4), (0, 5), (10, 5), (6, 9), (5, 10), (10, 10)]"
     ]
    },
    {
     "name": "stdout",
     "output_type": "stream",
     "text": [
      "\n"
     ]
    }
   ],
   "source": [
    "from State import free\n",
    "\n",
    "print(\"def frees\")\n",
    "result = []\n",
    "for (x, y) in status.state:\n",
    "    if free(status.state, x, y):\n",
    "        result.append((x, y))\n",
    "print(result)\n"
   ]
  },
  {
   "cell_type": "code",
   "execution_count": 6,
   "metadata": {
    "collapsed": false
   },
   "outputs": [
    {
     "data": {
      "text/plain": [
       "[{(5, 0), (6, 9)},\n {(5, 0), (8, 4)},\n {(6, 9), (8, 4)},\n {(5, 0), (8, 4)},\n {(0, 5), (6, 9)},\n {(0, 0), (6, 9)},\n {(0, 0), (10, 10)},\n {(6, 9), (10, 10)},\n {(0, 0), (10, 10)}]"
      ]
     },
     "execution_count": 6,
     "metadata": {},
     "output_type": "execute_result"
    }
   ],
   "source": [
    "from State import frees\n",
    "\n",
    "def step(self, keyState):\n",
    "    # for Quintessence use\n",
    "    buckets = {}\n",
    "    _frees = sorted([(Marble[MARBLE_BY_SYMBOL[self[x]]], x) for x in frees(self)])\n",
    "    for (k, v) in _frees:\n",
    "        buckets.setdefault(k, []).append(v)\n",
    "    for a in _frees:\n",
    "        (marbleA, posA) = a\n",
    "        for b in _frees:\n",
    "            (marbleB, posB) = b\n",
    "            if a == b:\n",
    "                continue\n",
    "            elif marbleA.value in range(Marble.Salt.value, Marble.Earth.value + 1):\n",
    "                if marbleB == marbleA or marbleB == Marble.Salt:\n",
    "                    yield {posA, posB}\n",
    "            elif marbleA.value in range(Marble.Vitae.value, Marble.Mors.value + 1):\n",
    "                if marbleB.value in range(Marble.Vitae.value, Marble.Mors.value + 1) and marbleA != marbleB:\n",
    "                    yield {posA, posB}\n",
    "            elif marbleA.value in range(Marble.Tin.value, Marble.Silver.value + 1):\n",
    "                if marbleB == Marble.Quicksilver and marbleA.previous() not in keyState:\n",
    "                    yield {posA, posB}\n",
    "            elif marbleA == Marble.Lead and marbleB == Marble.Quicksilver:\n",
    "                yield {posA, posB}\n",
    "            elif marbleA == Marble.Gold:\n",
    "                yield {posA}\n",
    "            elif marbleA == Marble.Quintessence:\n",
    "                continue\n",
    "            elif marbleA == Marble.Quicksilver:\n",
    "                continue\n",
    "            else:\n",
    "                print(marbleA, marbleB)\n",
    "\n",
    "list(step(status.state, status.keyState))\n"
   ]
  },
  {
   "cell_type": "code",
   "execution_count": 27,
   "metadata": {
    "collapsed": false
   },
   "outputs": [
    {
     "name": "stdout",
     "output_type": "stream",
     "text": [
      "[<State.State object at 0x1a231e72b0>]\n"
     ]
    },
    {
     "ename": "TypeError",
     "evalue": "object of type 'State' has no len()",
     "traceback": [
      "\u001b[0;31m---------------------------------------------------------------------------\u001b[0m",
      "\u001b[0;31mTypeError\u001b[0m                                 Traceback (most recent call last)",
      "\u001b[0;32m<ipython-input-27-62cd15570833>\u001b[0m in \u001b[0;36m<module>\u001b[0;34m()\u001b[0m\n\u001b[1;32m     29\u001b[0m \u001b[0;34m\u001b[0m\u001b[0m\n\u001b[1;32m     30\u001b[0m \u001b[0;34m\u001b[0m\u001b[0m\n\u001b[0;32m---> 31\u001b[0;31m \u001b[0msolve\u001b[0m\u001b[0;34m(\u001b[0m\u001b[0mstatus\u001b[0m\u001b[0;34m)\u001b[0m\u001b[0;34m\u001b[0m\u001b[0m\n\u001b[0m",
      "\u001b[0;32m<ipython-input-27-62cd15570833>\u001b[0m in \u001b[0;36msolve\u001b[0;34m(status)\u001b[0m\n\u001b[1;32m     10\u001b[0m         \u001b[0;31m# eval\u001b[0m\u001b[0;34m\u001b[0m\u001b[0;34m\u001b[0m\u001b[0m\n\u001b[1;32m     11\u001b[0m         \u001b[0mcur_state\u001b[0m \u001b[0;34m=\u001b[0m \u001b[0msorted\u001b[0m\u001b[0;34m(\u001b[0m\u001b[0mtodo\u001b[0m\u001b[0;34m,\u001b[0m \u001b[0mkey\u001b[0m\u001b[0;34m=\u001b[0m\u001b[0;32mlambda\u001b[0m \u001b[0mx\u001b[0m\u001b[0;34m:\u001b[0m \u001b[0mdict\u001b[0m\u001b[0;34m.\u001b[0m\u001b[0m__len__\u001b[0m\u001b[0;34m)\u001b[0m\u001b[0;34m[\u001b[0m\u001b[0;36m0\u001b[0m\u001b[0;34m]\u001b[0m\u001b[0;34m\u001b[0m\u001b[0m\n\u001b[0;32m---> 12\u001b[0;31m         \u001b[0mprint\u001b[0m\u001b[0;34m(\u001b[0m\u001b[0mlen\u001b[0m\u001b[0;34m(\u001b[0m\u001b[0mcur_state\u001b[0m\u001b[0;34m)\u001b[0m\u001b[0;34m)\u001b[0m\u001b[0;34m\u001b[0m\u001b[0m\n\u001b[0m\u001b[1;32m     13\u001b[0m         \u001b[0mtodo\u001b[0m\u001b[0;34m.\u001b[0m\u001b[0mremove\u001b[0m\u001b[0;34m(\u001b[0m\u001b[0mcur_state\u001b[0m\u001b[0;34m)\u001b[0m\u001b[0;34m\u001b[0m\u001b[0m\n\u001b[1;32m     14\u001b[0m         \u001b[0;32mfor\u001b[0m \u001b[0m_step\u001b[0m \u001b[0;32min\u001b[0m \u001b[0mstep\u001b[0m\u001b[0;34m(\u001b[0m\u001b[0mcur_state\u001b[0m\u001b[0;34m.\u001b[0m\u001b[0mstate\u001b[0m\u001b[0;34m,\u001b[0m \u001b[0mstatus\u001b[0m\u001b[0;34m.\u001b[0m\u001b[0mkeyState\u001b[0m\u001b[0;34m)\u001b[0m\u001b[0;34m:\u001b[0m\u001b[0;34m\u001b[0m\u001b[0m\n",
      "\u001b[0;31mTypeError\u001b[0m: object of type 'State' has no len()"
     ],
     "output_type": "error"
    }
   ],
   "source": [
    "from copy import deepcopy, copy\n",
    "\n",
    "from State import State\n",
    "\n",
    "def solve(status):\n",
    "    todo = [status]\n",
    "    print(todo)\n",
    "    solutions = {str(status.state): []}\n",
    "    while len(solutions) > 0:\n",
    "        # eval\n",
    "        cur_state = sorted(todo, key=lambda x: dict.__len__)[0]\n",
    "        print(len(cur_state))\n",
    "        todo.remove(cur_state)\n",
    "        for _step in step(cur_state.state, status.keyState):\n",
    "            state = deepcopy(cur_state.state)\n",
    "            for pos in _step:\n",
    "                if pos in state:\n",
    "                    state.pop(pos)\n",
    "                if str(state) in solutions:\n",
    "                    continue\n",
    "                todo += [State(state)]\n",
    "                solution = copy(solutions[str(cur_state.state)])\n",
    "                solution += _step\n",
    "                solutions[str(state)] = solution\n",
    "                if len(state) == 0:\n",
    "                    return solution\n",
    "    print(todo)\n",
    "    return None\n",
    "\n",
    "\n",
    "solve(status)\n"
   ]
  },
  {
   "cell_type": "code",
   "execution_count": 26,
   "metadata": {
    "collapsed": false
   },
   "outputs": [
    {
     "name": "stdout",
     "output_type": "stream",
     "text": [
      "0\n2\n4\nhas key\n5\nhas key\nhas key\n5\nhas key\n6\nhas key\n7\n9\nhas key\n10\nhas key\nhas key\n9\n11\nhas key\nhas key\n11\n13\nhas key\n14\nhas key\nhas key\n14\n16\nhas key\nhas key\n16\nhas key\n16\n18\nhas key\nhas key\n18\n"
     ]
    },
    {
     "name": "stdout",
     "output_type": "stream",
     "text": [
      "20\nhas key\n21\nhas key\nhas key\n21\n23\nhas key\nhas key\n23\nhas key\n24\n26\nhas key\nhas key\n25\n27\nhas key\n28\nhas key\nhas key\n28\n30\nhas key\nhas key\n30\nhas key\n31\n33\nhas key\nhas key\n32\n34\n36\nhas key\nhas key\n36\nhas key\nhas key\n35\n37\nhas key\n38\nhas key\nhas key\n38\n40\nhas key\nhas key\n40\nhas key\nhas key\n39\n41\n43\nhas key\nMarble.Lead Marble.Air\nMarble.Lead Marble.Fire\nMarble.Lead Marble.Water\nMarble.Lead Marble.Earth\nMarble.Lead Marble.Vitae\n43\n45\n47\nhas key\nMarble.Lead Marble.Copper\n47\n49\nhas key\nhas key\n49\n51\nhas key\nhas key\n50\n52\n54\n56\nhas key\n57\nhas key\nhas key\n57\nhas key\n58\nhas key\n59\nhas key\nhas key\n59\nhas key\nhas key\n59\n61\nhas key\n61\n63\nhas key\nhas key\n63\n65\nhas key\nhas key\n65\n66\nhas key\n66\nhas key\n66\nhas key\n66\nhas key\n66\nhas key\n66\nhas key\n66\nhas key\n66\nhas key\n66\nhas key\n66\nhas key\n65\n67\n69\nhas key\n70\nhas key\nhas key\n70\n72\n73\nhas key\n73\nhas key\n73\nhas key\n73\nhas key\n73\nhas key\n73\nhas key\n73\nhas key\n73\nhas key\n73\nhas key\n72\n74\nhas key\nhas key\n74\n75\nhas key\n75\nhas key\n75\nhas key\n75\nhas key\n75\nhas key\n75\nhas key\n75\nhas key\n75\nhas key\n74\n76\n78\nhas key\nhas key\n78\nhas key\n79\nhas key\nhas key\n79\nhas key\nhas key\n79\n80\nhas key\n80\nhas key\n80\nhas key\n80\nhas key\n80\nhas key\n80\nhas key\n80\nhas key\n80\nhas key\n79\n81\nhas key\nhas key\n81\n82\nhas key\n82\nhas key\n82\nhas key\n82\nhas key\n82\nhas key\n82\nhas key\n82\nhas key\n82\nhas key\n81\n83\nhas key\nhas key\n83\n84\nhas key\n84\nhas key\n84\nhas key\n84\nhas key\n84\nhas key\n84\nhas key\n84\nhas key\n84\nhas key\n84\nhas key\n83\n84\nhas key\n84\nhas key\n84\nhas key\n84\nhas key\n84\nhas key\n84\nhas key\n84\nhas key\n84\nhas key\n84\nhas key\n83\n85\nhas key\nhas key\n84\n86\n88\nhas key\nhas key\n88\nhas key\n89\nhas key\n90\nhas key\nhas key\n83\nhas key\nhas key\n83\nhas key\nhas key\n83\nhas key\nhas key\n83\nhas key\nhas key\n83\nhas key\nhas key\n83\nhas key\nhas key\n82\nhas key\n82\nhas key\n82\nhas key\n82\nhas key\n82\nhas key\n82\nhas key\n82\nhas key\n"
     ]
    },
    {
     "name": "stdout",
     "output_type": "stream",
     "text": [
      "82\nhas key\n82\nhas key\n82\nhas key\n81\n83\nhas key\nhas key\n83\nhas key\n84\nhas key\nhas key\n83\n85\n87\nhas key\nhas key\n87\nhas key\n88\nhas key\n89\nhas key\nhas key\n89\n91\nhas key\nhas key\n91\nhas key\nhas key\n91\nhas key\nhas key\n90\n92\nhas key\n93\nhas key\nhas key\n93\nhas key\nhas key\n93\nhas key\nhas key\n93\nhas key\nhas key\n89\nhas key\nhas key\n89\nhas key\nhas key\n89\nhas key\nhas key\n89\nhas key\nhas key\n89\nhas key\nhas key\n89\nhas key\nhas key\n88\n90\nhas key\n91\nhas key\nhas key\n91\nhas key\nhas key\n91\nhas key\nhas key\n91\nhas key\nhas key\n87\nhas key\nhas key\n87\nhas key\nhas key\n87\nhas key\nhas key\n87\nhas key\nhas key\n87\nhas key\nhas key\n87\nhas key\nhas key\n86\n88\nhas key\nhas key\n88\nhas key\nhas key\n88\nhas key\nhas key\n85\nhas key\nhas key\n85\nhas key\nhas key\n85\nhas key\nhas key\n85\nhas key\nhas key\n85\nhas key\nhas key\n85\nhas key\nhas key\n84\nhas key\n85\nhas key\n86\nhas key\nhas key\n86\nhas key\nhas key\n86\nhas key\n87\nhas key\nhas key\n83\nhas key\nhas key\n83\nhas key\nhas key\n83\nhas key\nhas key\n83\nhas key\nhas key\n83\nhas key\nhas key\n83\nhas key\nhas key\n82\nhas key\nhas key\n82\nhas key\nhas key\n82\nhas key\nhas key\n82\nhas key\nhas key\n82\nhas key\nhas key\n82\nhas key\nhas key\n82\nhas key\nhas key\n82\nhas key\nhas key\n82\nhas key\nhas key\n82\nhas key\nhas key\n81\nhas key\nhas key\n81\nhas key\nhas key\n80\nhas key\nhas key\n80\nhas key\nhas key\n80\nhas key\n80\nhas key\n80\nhas key\n80\nhas key\n80\nhas key\n80\nhas key\n80\nhas key\n80\nhas key\n80\nhas key\n80\nhas key\n79\nhas key\n80\nhas key\nhas key\n79\nhas key\nhas key\n79\nhas key\nhas key\n79\nhas key\nhas key\n79\nhas key\nhas key\n78\nhas key\nhas key\n78\nhas key\nhas key\n78\nhas key\n78\nhas key\n78\nhas key\n78\nhas key\n78\nhas key\n78\nhas key\n78\nhas key\n78\nhas key\n78\nhas key\n77\n79\nhas key\nhas key\n79\n80\nhas key\n80\nhas key\n80\nhas key\n80\nhas key\n80\nhas key\n80\nhas key\n80\nhas key\n80\nhas key\n80\nhas key\n79\n81\nhas key\n82\n83\nhas key\n83\nhas key\n83\nhas key\n83\nhas key\n83\nhas key\n83\nhas key\n83\nhas key\n83\nhas key\n83\nhas key\n82\n84\nhas key\nhas key\n84\n85\nhas key\n85\nhas key\n85\nhas key\n85\nhas key\n85\nhas key\n85\nhas key\n85\nhas key\n85\nhas key\n85\nhas key\n85\nhas key\n84\n86\nhas key\nhas key\n86\n87\nhas key\n87\nhas key\n87\nhas key\n87\nhas key\n87\nhas key\n87\nhas key\n87\nhas key\n87\nhas key\n87\nhas key\n87\nhas key\n87\nhas key\n86\n88\nhas key\nhas key\n88\n89\nhas key\n89\nhas key\n89\nhas key\n89\nhas key\n89\nhas key\n89\nhas key\n89\nhas key\n89\nhas key\n89\nhas key\n89\nhas key\n88\n89\nhas key\n89\nhas key\n89\nhas key\n89\nhas key\n89\nhas key\n89\nhas key\n89\nhas key\n89\nhas key\n89\nhas key\n87\nhas key\n87\nhas key\n87\nhas key\n87\nhas key\n87\nhas key\n87\nhas key\n87\nhas key\n87\nhas key\n87\nhas key\n87\nhas key\n86\nhas key\n87\nhas key\nhas key\n85\nhas key\nhas key\n85\nhas key\nhas key\n85\nhas key\n85\nhas key\n85\nhas key\n85\nhas key\n85\nhas key\n85\nhas key\n85\nhas key\n85\nhas key\n85\nhas key\n85\nhas key\n85\nhas key\n84\n86\nhas key\nhas key\n86\nhas key\n87\nhas key\nhas key\n86\n88\n90\nhas key\nhas key\n90\nhas key\nhas key\n90\nhas key\n91\nhas key\nhas key\n90\n92\nhas key\nhas key\n89\nhas key\nhas key\n89\nhas key\nhas key\n88\n90\nhas key\nhas key\n87\nhas key\nhas key\n87\nhas key\nhas key\n86\nhas key\nhas key\n86\nhas key\nhas key\n85\nhas key\nhas key\n85\nhas key\nhas key\n85\nhas key\nhas key\n85\nhas key\nhas key\n85\nhas key\nhas key\n85\nhas key\nhas key\n84\nhas key\nhas key\n84\nhas key\nhas key\n83\nhas key\nhas key\n83\nhas key\nhas key\n83\nhas key\n83\nhas key\n83\nhas key\n83\nhas key\n83\nhas key\n83\nhas key\n83\nhas key\n83\nhas key\n83\nhas key\n83\nhas key\n83\nhas key\n83\nhas key\n82\nhas key\n83\nhas key\nhas key\n82\nhas key\nhas key\n82\nhas key\nhas key\n82\nhas key\nhas key\n82\nhas key\nhas key\n81\nhas key\nhas key\n81\nhas key\nhas key\n81\nhas key\n81\nhas key\n81\nhas key\n81\nhas key\n81\nhas key\n81\nhas key\n81\nhas key\n81\nhas key\n81\nhas key\n81\nhas key\n81\nhas key\n80\nhas key\nhas key\n80\nhas key\nhas key\n80\nhas key\n80\nhas key\n80\nhas key\n80\nhas key\n80\nhas key\n80\nhas key\n80\nhas key\n80\nhas key\n80\nhas key\n80\nhas key\n80\nhas key\n79\nhas key\n80\nhas key\nhas key\n80\nhas key\nhas key\n80\n82\nhas key\nhas key\n82\nhas key\nhas key\n81\nhas key\nhas key\n81\nhas key\nhas key\n80\n82\nhas key\nhas key\n82\n84\nhas key\nhas key\n83\n85\nhas key\n86\nhas key\nhas key\n86\n88\nhas key\nhas key\n88\nhas key\nhas key\n88\n90\nhas key\nhas key\n89\n91\n93\nhas key\nhas key\n93\nhas key\n94\nhas key\n95\nhas key\nhas key\n95\n97\nhas key\nhas key\n96\n98\nhas key\n99\nhas key\nhas key\n99\nhas key\nhas key\n95\nhas key\nhas key\n95\nhas key\nhas key\n95\nhas key\nhas key\n95\nhas key\nhas key\n94\n96\nhas key\n97\nhas key\nhas key\n97\nhas key\nhas key\n93\nhas key\nhas key\n93\nhas key\nhas key\n93\nhas key\nhas key\n93\nhas key\nhas key\n92\n94\nhas key\nhas key\n91\nhas key\nhas key\n91\nhas key\nhas key\n91\nhas key\nhas key\n91\nhas key\nhas key\n90\nhas key\n91\nhas key\n92\nhas key\nhas key\n92\nhas key\nhas key\n92\nhas key\n93\nhas key\nhas key\n89\nhas key\nhas key\n89\nhas key\nhas key\n89\nhas key\nhas key\n89\nhas key\nhas key\n89\nhas key\nhas key\n89\nhas key\nhas key\n88\nhas key\nhas key\n88\nhas key\nhas key\n88\nhas key\nhas key\n88\nhas key\nhas key\n88\nhas key\nhas key\n88\nhas key\nhas key\n88\nhas key\nhas key\n88\nhas key\nhas key\n87\n89\n91\nhas key\nhas key\n91\nhas key\n92\nhas key\n93\nhas key\nhas key\n92\n94\nhas key\nhas key\n91\nhas key\nhas key\n91\nhas key\nhas key\n90\n92\nhas key\nhas key\n89\nhas key\nhas key\n89\nhas key\nhas key\n87\nhas key\nhas key\n87\nhas key\nhas key\n86\n88\nhas key\nhas key\n88\n90\nhas key\nhas key\n89\n91\nhas key\nhas key\n88\nhas key\nhas key\n88\nhas key\nhas key\n87\nhas key\n88\nhas key\nhas key\n86\nhas key\nhas key\n86\nhas key\nhas key\n85\nhas key\nhas key\n85\nhas key\nhas key\n85\nhas key\nhas key\n85\nhas key\nhas key\n84\nhas key\n85\nhas key\nhas key\n85\nhas key\nhas key\n85\nhas key\n86\nhas key\nhas key\n86\nhas key\nhas key\n85\nhas key\nhas key\n85\nhas key\nhas key\n84\nhas key\nhas key\n84\nhas key\nhas key\n83\nhas key\nhas key\n83\nhas key\nhas key\n83\nhas key\nhas key\n83\nhas key\nhas key\n83\nhas key\nhas key\n83\nhas key\nhas key\n82\nhas key\nhas key\n82\nhas key\nhas key\n82\nhas key\nhas key\n82\nhas key\nhas key\n82\nhas key\nhas key\n82\nhas key\nhas key\n82\nhas key\nhas key\n82\nhas key\nhas key\n81\nhas key\n82\nhas key\nhas key\n82\n84\n86\nhas key\nhas key\n86\nhas key\n87\nhas key\n88\nhas key\nhas key\n87\nhas key\nhas key\n87\nhas key\nhas key\n87\nhas key\nhas key\n87\nhas key\nhas key\n87\nhas key\nhas key\n87\nhas key\nhas key\n87\nhas key\nhas key\n87\nhas key\nhas key\n86\nhas key\n87\nhas key\nhas key\n86\nhas key\nhas key\n86\nhas key\nhas key\n86\nhas key\nhas key\n86\nhas key\nhas key\n85\nhas key\nhas key\n85\nhas key\nhas key\n84\nhas key\n85\nhas key\nhas key\n84\nhas key\nhas key\n84\nhas key\nhas key\n84\nhas key\nhas key\n84\nhas key\nhas key\n83\nhas key\nhas key\n83\nhas key\nhas key\n82\nhas key\n83\nhas key\nhas key\n82\nhas key\nhas key\n82\nhas key\nhas key\n81\nhas key\nhas key\n81\nhas key\nhas key\n80\nhas key\nhas key\n80\nhas key\nhas key\n80\nhas key\nhas key\n80\nhas key\nhas key\n80\nhas key\nhas key\n80\nhas key\nhas key\n80\nhas key\nhas key\n80\nhas key\nhas key\n79\nhas key\nhas key\n79\nhas key\nhas key\n79\nhas key\nhas key\n79\nhas key\nhas key\n78\nhas key\nhas key\n78\nhas key\nhas key\n78\nhas key\n78\nhas key\n78\nhas key\n78\nhas key\n78\nhas key\n78\nhas key\n78\nhas key\n78\nhas key\n78\nhas key\n78\nhas key\n77\nhas key\n78\nhas key\nhas key\n78\nhas key\n79\nhas key\nhas key\n78\nhas key\nhas key\n78\nhas key\nhas key\n78\nhas key\nhas key\n78\nhas key\nhas key\n77\nhas key\nhas key\n77\nhas key\nhas key\n77\nhas key\nhas key\n77\nhas key\nhas key\n77\nhas key\nhas key\n77\nhas key\nhas key\n76\nhas key\nhas key\n76\nhas key\nhas key\n76\nhas key\n76\nhas key\n76\nhas key\n76\nhas key\n76\nhas key\n76\nhas key\n76\nhas key\n76\nhas key\n76\nhas key\n76\nhas key\n75\nhas key\n76\nhas key\nhas key\n76\n78\nhas key\nhas key"
     ]
    },
    {
     "name": "stdout",
     "output_type": "stream",
     "text": [
      "\n78\n79\nhas key\n79\nhas key\n79\nhas key\n79\nhas key\n79\nhas key\n79\nhas key\n79\nhas key\n79\nhas key\n79\nhas key\n78\nhas key\nhas key\n78\nhas key\nhas key\n78\nhas key\n78\nhas key\n78\nhas key\n78\nhas key\n78\nhas key\n78\nhas key\n78\nhas key\n78\nhas key\n78\nhas key\n78\nhas key\n77\nhas key\nhas key\n77\nhas key\n78\nhas key\nhas key\n78\nhas key\n79\nhas key\nhas key\n79\nhas key\nhas key\n79\n80\nhas key\n80\nhas key\n80\nhas key\n80\nhas key\n80\nhas key\n80\nhas key\n80\nhas key\n80\nhas key\n80\nhas key\n79\nhas key\nhas key\n79\nhas key\nhas key\n79\nhas key\n79\nhas key\n79\nhas key\n79\nhas key\n79\nhas key\n79\nhas key\n79\nhas key\n79\nhas key\n79\nhas key\n79\nhas key\n79\nhas key\n78\n80\nhas key\nhas key\n80\n81\nhas key\n81\nhas key\n81\nhas key\n81\nhas key\n81\nhas key\n81\nhas key\n81\nhas key\n81\nhas key\n81\nhas key\n81\nhas key\n80\n82\nhas key\nhas key\n82\n84\nhas key\nhas key\n84\n85\nhas key\n85\nhas key\n85\nhas key\n85\nhas key\n85\nhas key\n85\nhas key\n85\nhas key\n85\nhas key\n85\nhas key\n85\nhas key\n85\nhas key\n84\n86\nhas key\nhas key\n86\n88\nhas key\nhas key\n88\n89\nhas key\n89\nhas key\n89\nhas key\n89\nhas key\n89\nhas key\n89\nhas key\n89\nhas key\n89\nhas key\n89\nhas key\n89\nhas key\n88\n90\nhas key\nhas key\n90\n91\nhas key\n91\nhas key\n91\nhas key\n91\nhas key\n91\nhas key\n91\nhas key\n91\nhas key\n91\nhas key\n91\nhas key\n90\n91\nhas key\n91\nhas key\n91\nhas key\n91\nhas key\n91\nhas key\n91\nhas key\n91\nhas key\n89\nhas key\n89\nhas key\n89\nhas key\n89\nhas key\n89\nhas key\n89\nhas key\n89\nhas key\n89\nhas key\n88\nhas key\n89\nhas key\nhas key\n87\nhas key\nhas key\n87\nhas key\nhas key\n87\nhas key\n87\nhas key\n87\nhas key\n87\nhas key\n87\nhas key\n87\nhas key\n87\nhas key\n87\nhas key\n87\nhas key\n87\nhas key\n86\nhas key\n87\nhas key\nhas key\n87\n88\nhas key\n88\nhas key\n88\nhas key\n88\nhas key\n88\nhas key\n88\nhas key\n88\nhas key\n88\nhas key\n87\nhas key\n87\nhas key\n87\nhas key\n87\nhas key\n87\nhas key\n87\nhas key\n87\nhas key\n87\nhas key\n86\nhas key\n87\nhas key\nhas key\n85\nhas key\nhas key\n85\nhas key\nhas key\n85\nhas key\n85\nhas key\n85\nhas key\n85\nhas key\n85\nhas key\n85\nhas key\n85\nhas key\n85\nhas key\n85\nhas key\n84\nhas key\n85\nhas key\nhas key\n85\nhas key\n86\nhas key\nhas key\n85\nhas key\nhas key\n85\nhas key\nhas key\n84\nhas key\nhas key\n84\nhas key\nhas key\n83\nhas key\nhas key\n83\nhas key\nhas key\n83\nhas key\nhas key\n83\nhas key\nhas key\n83\nhas key\n83\nhas key\n83\nhas key\n83\nhas key\n83\nhas key\n83\nhas key\n83\nhas key\n83\nhas key\n83\nhas key\n83\nhas key\n83\nhas key\n82\n84\nhas key\n85\nhas key\nhas key\n85\nhas key\n86\nhas key\nhas key\n86\nhas key\nhas key\n86\n87\nhas key\n87\nhas key\n87\nhas key\n87\nhas key\n87\nhas key\n87\nhas key\n87\nhas key\n87\nhas key\n87\nhas key\n87\nhas key\n86\n88\nhas key\nhas key\n88\n89\nhas key\n89\nhas key\n89\nhas key\n89\nhas key\n89\nhas key\n89\nhas key\n89\nhas key\n89\nhas key\n89\nhas key\n89\nhas key\n88\n89\nhas key\n89\nhas key\n89\nhas key\n89\nhas key\n89\nhas key\n89\nhas key\n89\nhas key\n89\nhas key\n87\nhas key\n87\nhas key\n87\nhas key\n87\nhas key\n87\nhas key\n87\nhas key\n87\nhas key\n87\nhas key\n87\nhas key\n86\nhas key\n87\nhas key\nhas key\n85\nhas key\nhas key\n85\nhas key\nhas key\n85\nhas key\n85\nhas key\n85\nhas key\n85\nhas key\n85\nhas key\n85\nhas key\n85\nhas key\n85\nhas key\n85\nhas key\n85\nhas key\n85\nhas key\n84\n85\nhas key\n85\nhas key\n85\nhas key\n85\nhas key\n85\nhas key\n85\nhas key\n85\nhas key\n85\nhas key\n85\nhas key\n83\nhas key\nhas key\n83\nhas key\nhas key\n83\nhas key\n83\nhas key\n83\nhas key\n83\nhas key\n83\nhas key\n83\nhas key\n83\nhas key\n83\nhas key\n83\nhas key\n83\nhas key\n82\nhas key\n83\nhas key\nhas key\n83\nhas key\nhas key\n83\nhas key\n84\nhas key\nhas key\n84\nhas key\nhas key\n83\nhas key\nhas key\n83\nhas key\nhas key\n82\nhas key\nhas key\n82\nhas key\nhas key\n81\nhas key\nhas key\n81\nhas key\nhas key\n81\nhas key\nhas key\n81\nhas key\nhas key\n81\nhas key\nhas key\n81\nhas key\nhas key\n81\nhas key\n81\nhas key\n81\nhas key\n81\nhas key\n81\nhas key\n81\nhas key\n81\nhas key\n81\nhas key\n81\nhas key\n81\nhas key\n81\nhas key\n80\n82\nhas key\n83\nhas key\nhas key\n83\nhas key\n84\nhas key\nhas key\n84\nhas key\nhas key\n84\nhas key\n85\nhas key\nhas key\n84\n86\n88\nhas key\nhas key\n88\nhas key\nhas key\n88\nhas key\n89\nhas key\nhas key\n89\n91\nhas key\nhas key\n90\n92\nhas key\n93\nhas key\nhas key\n93\nhas key\nhas key\n89\nhas key\nhas key\n89\nhas key\nhas key\n89\nhas key\nhas key\n89\nhas key\nhas key\n88\n90\nhas key\n91\nhas key\nhas key\n91\nhas key\nhas key\n87\nhas key\nhas key\n87\nhas key\nhas key\n87\nhas key\nhas key\n87\nhas key\nhas key\n86\nhas key\nhas key\n86\nhas key\nhas key\n86\nhas key\nhas key\n86\nhas key\nhas key\n85\nhas key\n86\nhas key\n87\nhas key\nhas key\n87\nhas key\nhas key\n87\nhas key\n88\nhas key\nhas key\n84\nhas key\nhas key\n84\nhas key\nhas key\n84\nhas key\nhas key\n84\nhas key\nhas key\n84\nhas key\nhas key\n84\nhas key\nhas key\n83\nhas key\nhas key\n83\nhas key\nhas key\n"
     ]
    },
    {
     "name": "stdout",
     "output_type": "stream",
     "text": [
      "83\nhas key\nhas key\n83\nhas key\nhas key\n83\nhas key\nhas key\n83\nhas key\nhas key\n83\nhas key\nhas key\n83\nhas key\nhas key\n82\n84\n86\nhas key\nhas key\n86\nhas key\nhas key\n86\nhas key\n87\nhas key\nhas key\n86\n88\nhas key\nhas key\n85\nhas key\nhas key\n85\nhas key\nhas key\n84\n86\nhas key\nhas key\n83\nhas key\nhas key\n83\nhas key\nhas key\n82\nhas key\nhas key\n82\nhas key\nhas key\n81\nhas key\nhas key\n81\nhas key\nhas key\n81\nhas key\nhas key\n81\nhas key\nhas key\n80\nhas key\nhas key\n80\nhas key\nhas key\n80\nhas key\nhas key\n80\nhas key\nhas key\n80\nhas key\nhas key\n80\nhas key\nhas key\n79\nhas key\nhas key\n79\nhas key\nhas key\n79\nhas key\nhas key\n79\nhas key\nhas key\n79\nhas key\n79\nhas key\n79\nhas key\n79\nhas key\n79\nhas key\n79\nhas key\n79\nhas key\n79\nhas key\n79\nhas key\n79\nhas key\n79\nhas key\n79\nhas key\n78\nhas key\n79\nhas key\nhas key\n79\n81\nhas key\nhas key\n80\nhas key\nhas key\n80\nhas key\nhas key\n80\nhas key\nhas key\n80\nhas key\nhas key\n80\nhas key\nhas key\n80\nhas key\nhas key\n80\nhas key\nhas key\n80\nhas key\nhas key\n79\nhas key\n80\nhas key\nhas key\n80\n82\n84\nhas key\nhas key\n84\nhas key\n85\nhas key\n86\nhas key\nhas key\n85\nhas key\nhas key\n85\nhas key\nhas key\n85\nhas key\nhas key\n85\nhas key\nhas key\n85\nhas key\nhas key\n85\nhas key\nhas key\n85\nhas key\nhas key\n85\nhas key\nhas key\n84\nhas key\n85\nhas key\nhas key\n84\nhas key\nhas key\n84\nhas key\nhas key\n84\nhas key\nhas key\n84\nhas key\nhas key\n83\nhas key\nhas key\n83\nhas key\nhas key\n82\nhas key\n83\nhas key\nhas key\n82\nhas key\nhas key\n82\nhas key\nhas key\n82\nhas key\nhas key\n82\nhas key\nhas key\n81\nhas key\nhas key\n81\nhas key\nhas key\n80\nhas key\n81\nhas key\nhas key\n80\nhas key\nhas key\n80\nhas key\nhas key\n79\nhas key\nhas key\n79\nhas key\nhas key\n78\nhas key\nhas key\n78\nhas key\nhas key\n78\nhas key\nhas key\n78\nhas key\nhas key\n78\nhas key\nhas key\n78\nhas key\nhas key\n78\nhas key\nhas key\n78\nhas key\nhas key\n77\nhas key\nhas key\n77\nhas key\n78\nhas key\nhas key\n78\nhas key\nhas key\n78\nhas key\nhas key\n78\nhas key\nhas key\n77\nhas key\nhas key\n77\nhas key\nhas key\n76\nhas key\nhas key\n76\nhas key\nhas key\n76\nhas key\nhas key\n76\nhas key\nhas key\n76\nhas key\nhas key\n76\nhas key\nhas key\n76\nhas key\n76\nhas key\n76\nhas key\n76\nhas key\n76\nhas key\n76\nhas key\n76\nhas key\n76\nhas key\n76\nhas key\n76\nhas key\n75\nhas key\nhas key\n75\nhas key\nhas key\n75\nhas key\n76\nhas key\nhas key\n75\nhas key\nhas key\n75\nhas key\nhas key\n75\nhas key\nhas key\n75\nhas key\nhas key\n75\nhas key\nhas key\n75\nhas key\nhas key\n74\nhas key\n75\n77\nhas key\nhas key\n77\nhas key\nhas key\n77\nhas key\n78\nhas key\nhas key\n78\nhas key\nhas key\n78\nhas key\nhas key\n78\n80\nhas key\nhas key\n80\nhas key\nhas key\n80\nhas key\nhas key\n79\nhas key\nhas key\n79\nhas key\nhas key\n78\n80\nhas key\nhas key\n80\nhas key\nhas key\n80\nhas key\nhas key\n79\n81\nhas key\nhas key\n81\nhas key\n82\nhas key\nhas key\n82\n84\nhas key\nhas key\n83\nhas key\n84\nhas key\nhas key\n84\n86\nhas key\n87\nhas key\nhas key\n87\nhas key\nhas key\n86\nhas key\nhas key\n86\nhas key\nhas key\n86\nhas key\nhas key\n86\nhas key\nhas key\n86\nhas key\nhas key\n86\nhas key\nhas key\n85\nhas key\n86\nhas key\nhas key\n84\nhas key\nhas key\n84\nhas key\nhas key\n83\nhas key\n84\nhas key\nhas key\n82\nhas key\nhas key\n82\nhas key\nhas key\n82\nhas key\nhas key\n82\nhas key\nhas key\n82\nhas key\nhas key\n82\nhas key\nhas key\n81\nhas key\nhas key\n81\nhas key\nhas key\n81\nhas key\nhas key\n81\nhas key\nhas key\n81\nhas key\nhas key\n81\nhas key\nhas key\n81\nhas key\nhas key\n81\nhas key\nhas key\n81\nhas key\nhas key\n81\nhas key\nhas key\n80\nhas key\n81\nhas key\nhas key\n81\nhas key\n82\nhas key\nhas key\n81\nhas key\nhas key\n81\nhas key\nhas key\n80\nhas key\nhas key\n80\nhas key\nhas key\n80\nhas key\nhas key\n80\nhas key\nhas key\n80\nhas key\nhas key\n80\nhas key\nhas key\n79\nhas key\nhas key\n79\nhas key\nhas key\n79\nhas key\nhas key\n79\nhas key\nhas key\n78\nhas key\nhas key\n78\nhas key\nhas key\n78\nhas key\nhas key\n78\nhas key\nhas key\n78\nhas key\nhas key\n78\nhas key\nhas key\n77\nhas key\nhas key\n77\nhas key\nhas key\n77\nhas key\nhas key\n77\nhas key\nhas key\n76\n78\nhas key\nhas key\n78\nhas key\nhas key\n78\nhas key\nhas key\n77\n79\nhas key\nhas key\n79\nhas key\nhas key\n79\nhas key\nhas key\n79\n81\nhas key\nhas key\n80\nhas key\nhas key\n80\nhas key\nhas key\n80\n82\nhas key\n83\nhas key\nhas key\n83\nhas key\nhas key\n82\nhas key\nhas key\n82\nhas key\nhas key\n81\nhas key\nhas key\n81\nhas key\nhas key\n80\nhas key\nhas key\n80\nhas key\nhas key\n79\nhas key\nhas key\n79\nhas key\nhas key\n79\nhas key\nhas key\n79\nhas key\nhas key\n79\nhas key\nhas key\n79\nhas key\nhas key\n78\nhas key\n79\nhas key\nhas key\n79\nhas key\nhas key\n79\nhas key\nhas key\n78\nhas key\nhas key\n78\nhas key\nhas key\n77\nhas key\nhas key\n77\nhas key\nhas key\n77\nhas key\nhas key\n77\nhas key\nhas key\n76\nhas key\nhas key\n76\nhas key\nhas key\n76\nhas key\nhas key\n76\nhas key\nhas key\n76\nhas key\nhas key\n76\nhas key\nhas key\n75\n77\nhas key\nhas key\n77\nhas key\n78\nhas key\nhas key\n78\n80\nhas key\nhas key\n79\n81\n83\nhas key\nhas key\n83\nhas key\n84\nhas key\n85\nhas key\nhas key\n85\nhas key\n86\nhas key\nhas key\n86\n88\nhas key\n89\nhas key\nhas key\n89\nhas key\nhas key\n88\nhas key\n89\nhas key\nhas key\n89\n91\nhas key\n92\nhas key\n93\nhas key\nhas key\n93\nhas key\nhas key\n93\nhas key\nhas key\n92\nhas key\nhas key\n92\nhas key\nhas key\n92\nhas key\nhas key\n92\nhas key\nhas key\n92\nhas key\nhas key\n92\nhas key\nhas key\n91\nhas key\n92\nhas key\nhas key\n90\nhas key\nhas key\n90\nhas key\nhas key\n89\nhas key\n90\nhas key\nhas key\n88\nhas key\n89\nhas key\n90\nhas key\nhas key\n90\nhas key\nhas key\n90\nhas key\nhas key\n90\nhas key\nhas key\n88\nhas key\nhas key\n88\nhas key\nhas key\n87\nhas key\nhas key\n87\nhas key\nhas key\n87\nhas key\nhas key\n87\nhas key\nhas key\n87\nhas key\nhas key\n87\nhas key\nhas key\n87\nhas key\nhas key\n87\nhas key\nhas key\n86\nhas key\n87\nhas key\nhas key\n87\n89\nhas key\n90\nhas key\n91\nhas key\nhas key\n91\nhas key\nhas key\n91\nhas key\nhas key\n90\nhas key\nhas key\n90\nhas key\nhas key\n90\nhas key\nhas key\n90\nhas key\nhas key\n90\nhas key\nhas key\n90\nhas key\nhas key\n89\nhas key\n90\nhas key\nhas key\n88\nhas key\nhas key\n88\nhas key\nhas key\n87\nhas key\n88\nhas key\nhas key\n86\nhas key\n87\nhas key\n88\nhas key\nhas key\n88\nhas key\nhas key\n88\nhas key\nhas key\n88\nhas key\nhas key\n86\nhas key\nhas key\n86\nhas key\nhas key\n85\nhas key\nhas key\n85\nhas key\nhas key\n85\nhas key\nhas key\n85\nhas key\nhas key\n85\nhas key\nhas key\n85\nhas key\nhas key\n85\nhas key\nhas key\n85\nhas key\nhas key\n84\nhas key\n85\nhas key\nhas key\n85\n87\nhas key\n88\nhas key\nhas key\n88\nhas key\nhas key\n87\nhas key\nhas key\n87\nhas key\nhas key\n87\nhas key\nhas key\n87\nhas key\nhas key\n86\nhas key\n87\nhas key\nhas key\n85\nhas key\nhas key\n85\nhas key\nhas key\n84\nhas key\n85\nhas key\n86\nhas key\nhas key\n86\nhas key\nhas key\n86\nhas key\nhas key\n86\nhas key\nhas key\n84\nhas key\nhas key\n84\nhas key\nhas key\n83\nhas key\nhas key\n83\nhas key\nhas key\n83\nhas key\nhas key\n83\nhas key\nhas key\n83\nhas key\nhas key\n83\nhas key\nhas key\n83\nhas key\nhas key\n83\nhas key\nhas key\n82\nhas key\nhas key\n82\nhas key\nhas key\n82\nhas key\nhas key\n82\nhas key\nhas key\n82\nhas key\nhas key\n82\nhas key\nhas key\n82\nhas key\nhas key\n82\nhas key\nhas key\n82\nhas key\nhas key\n82\nhas key\nhas key\n81\nhas key\n82\nhas key\n83\nhas key\nhas key\n83\nhas key\nhas key\n83\nhas key\n84\nhas key\nhas key\n84\nhas key\n85"
     ]
    },
    {
     "name": "stdout",
     "output_type": "stream",
     "text": [
      "\nhas key\nhas key\n84\nhas key\nhas key\n84\nhas key\nhas key\n83\nhas key\nhas key\n83\nhas key\nhas key\n82\nhas key\nhas key\n82\nhas key\nhas key\n81\nhas key\nhas key\n81\nhas key\nhas key\n81\nhas key\nhas key\n81\nhas key\nhas key\n81\nhas key\nhas key\n81\nhas key\nhas key\n80\nhas key\nhas key\n80\nhas key\nhas key\n80\nhas key\nhas key\n80\nhas key\nhas key\n80\nhas key\nhas key\n80\nhas key\nhas key\n80\nhas key\nhas key\n80\nhas key\nhas key\n79\nhas key\n80\nhas key\n81\nhas key\nhas key\n81\nhas key\nhas key\n81\nhas key\n82\nhas key\nhas key\n82\nhas key\n83\nhas key\n84\nhas key\nhas key\n84\nhas key\nhas key\n84\nhas key\nhas key\n84\nhas key\nhas key\n83\nhas key\nhas key\n83\nhas key\nhas key\n83\nhas key\nhas key\n83\nhas key\nhas key\n83\nhas key\nhas key\n83\nhas key\nhas key\n82\nhas key\nhas key\n82\nhas key\nhas key\n82\nhas key\nhas key\n82\nhas key\nhas key\n82\nhas key\nhas key\n82\nhas key\nhas key\n81\nhas key\nhas key\n81\nhas key\nhas key\n81\nhas key\nhas key\n81\nhas key\nhas key\n81\nhas key\nhas key\n81\nhas key\nhas key\n80\nhas key\nhas key\n80\nhas key\nhas key\n80\nhas key\nhas key\n80\nhas key\nhas key\n80\nhas key\nhas key\n80\nhas key\nhas key\n79\nhas key\nhas key\n79\nhas key\nhas key\n79\nhas key\nhas key\n79\nhas key\nhas key\n79\nhas key\nhas key\n79\nhas key\nhas key\n79\nhas key\nhas key\n79\nhas key\nhas key\n78\nhas key\nhas key\n78\nhas key\nhas key\n78\nhas key\nhas key\n78\nhas key\nhas key\n78\nhas key\nhas key\n78\nhas key\nhas key\n78\nhas key\nhas key\n78\nhas key\nhas key\n78\nhas key\nhas key\n78\nhas key\nhas key\n78\nhas key\nhas key\n78\nhas key\nhas key\n77\nhas key\nhas key\n77\nhas key\nhas key\n77\nhas key\nhas key\n77\nhas key\nhas key\n76\nhas key\n77\nhas key\nhas key\n77\nhas key\n78\nhas key\n79\nhas key\nhas key\n79\nhas key\nhas key\n79\nhas key\nhas key\n79\nhas key\nhas key\n78\nhas key\nhas key\n78\nhas key\nhas key\n78\nhas key\nhas key\n78\nhas key\nhas key\n78\nhas key\nhas key\n78\nhas key\nhas key\n78\nhas key\nhas key\n78\nhas key\nhas key\n78\nhas key\nhas key\n78\nhas key\nhas key\n78\nhas key\nhas key\n78\nhas key\nhas key\n77\nhas key\nhas key\n77\nhas key\nhas key\n76\nhas key\nhas key\n76\nhas key\nhas key\n76\nhas key\nhas key\n76\nhas key\nhas key\n75\nhas key\nhas key\n75\nhas key\nhas key\n75\nhas key\nhas key\n75\nhas key\nhas key\n75\nhas key\nhas key\n75\nhas key\nhas key\n75\nhas key\nhas key\n75\nhas key\nhas key\n74\nhas key\nhas key\n74\nhas key\nhas key\n74\nhas key\nhas key\n74\nhas key\nhas key\n74\nhas key\nhas key\n74\nhas key\nhas key\n73\nhas key\nhas key\n73\nhas key\nhas key\n73\nhas key\nhas key\n73\nhas key\nhas key\n73\nhas key\nhas key\n73\nhas key\nhas key\n73\nhas key\n73\nhas key\n73\nhas key\n73\nhas key\n73\nhas key\n73\nhas key\n73\nhas key\n73\nhas key\n73\nhas key\n72\nhas key\n73\nhas key\nhas key\n73\n75\nhas key\nhas key\n74\nhas key\nhas key\n74\nhas key\nhas key\n74\nhas key\nhas key\n74\nhas key\nhas key\n74\nhas key\nhas key\n74\nhas key\nhas key\n74\nhas key\nhas key\n74\nhas key\nhas key\n74\nhas key\nhas key\n74\nhas key\nhas key\n74\nhas key\nhas key\n74\nhas key\nhas key\n73\n75\nhas key\nhas key\n75\nhas key\n76\n78\nhas key\nhas key\n78\nhas key\n79\nhas key\nhas key\n79\nhas key\nhas key\n79\n81\nhas key\nhas key\n80\n82\nhas key\n83\nhas key\n84\nhas key\n85\nhas key\nhas key\n85\nhas key\n86\n88\n90\nhas key\nhas key\n90\nhas key\nhas key\n90\nhas key\n91\nhas key\n92\nhas key\nhas key\n92\nhas key\nhas key\n92\nhas key\nhas key\n92\nhas key\n93\nhas key\nhas key\n93\nhas key\n94\nhas key\nhas key\n94\nhas key\nhas key\n94\n96\nhas key\n97\nhas key\nhas key\n97\nhas key\nhas key\n96\nhas key\nhas key\n96\nhas key\nhas key\n96\nhas key\nhas key\n96\n98\nhas key\nhas key\n98\nhas key\nhas key\n98\n100\nhas key\nhas key\n100\n102\nhas key\n103\nhas key\n104\nhas key\nhas key\n104\nhas key\nhas key\n104\nhas key\nhas key\n103\n105\nhas key\nhas key\n105\n107\nhas key\n108\nhas key\n109\nhas key\nhas key\n109\nhas key\nhas key\n109\nhas key\nhas key\n108\n110\nhas key\n111\nhas key\n112\nhas key\nhas key\n112\nhas key\nhas key\n112\nhas key\nhas key\n107\nhas key\nhas key\n107\nhas key\nhas key\n107\nhas key\nhas key\n107\nhas key\nhas key\n107\nhas key\nhas key\n107\nhas key\nhas key\n106\nhas key\n107\nhas key\nhas key\n105\nhas key\nhas key\n105\nhas key\nhas key\n104\nhas key\n105\nhas key\nhas key\n103\nhas key\n104\n106\nhas key\nhas key\n106\nhas key\n107\nhas key\nhas key\n107\nhas key\nhas key\n105\n107\nhas key\nhas key\n106\n108\nhas key\n109\nhas key\nhas key\n109\nhas key\nhas key\n105\nhas key\nhas key\n105\nhas key\nhas key\n105\nhas key\nhas key\n105\nhas key\nhas key\n104\nhas key\nhas key\n104\nhas key\nhas key\n103\n105\nhas key\nhas key\n104\n106\nhas key\n107\nhas key\nhas key\n107\nhas key\nhas key\n103\nhas key\nhas key\n103\nhas key\nhas key\n103\nhas key\nhas key\n103\nhas key\nhas key\n102\nhas key\nhas key\n102\nhas key\nhas key\n102\nhas key\nhas key\n102\nhas key\nhas key\n102\nhas key\nhas key\n102\nhas key\nhas key\n102\nhas key\nhas key\n102\nhas key\nhas key\n101\nhas key\nhas key\n101\nhas key\nhas key\n101\nhas key\nhas key\n101\nhas key\n102\nhas key\nhas key\n102\nhas key\nhas key\n102\n104\nhas key\n105\nhas key\n106\nhas key\nhas key\n106\nhas key\nhas key\n106\nhas key\nhas key\n105\nhas key\nhas key\n105\nhas key\nhas key\n105\nhas key\nhas key\n105\nhas key\nhas key\n105\nhas key\nhas key\n105\nhas key\nhas key\n104\nhas key\n105\nhas key\nhas key\n105\nhas key\nhas key\n105\nhas key\n106\nhas key\nhas key\n106\nhas key\nhas key\n103\nhas key\nhas key\n103\nhas key\nhas key\n103\nhas key\nhas key\n103\nhas key\nhas key\n103\nhas key\nhas key\n103\nhas key\nhas key\n102\nhas key\nhas key\n102\nhas key\nhas key\n102\nhas key\nhas key\n102\nhas key\n103\nhas key\nhas key\n103\nhas key\nhas key\n101\nhas key\nhas key\n101\nhas key\nhas key\n101\nhas key\nhas key\n101\nhas key\n102\nhas key\nhas key\n102\nhas key\nhas key\n100\nhas key\nhas key\n100\nhas key\nhas key\n100\nhas key\nhas key\n100\nhas key\nhas key\n100\nhas key\nhas key\n100\nhas key\nhas key\n100\nhas key\nhas key\n100\nhas key\nhas key\n100\nhas key\nhas key\n100\nhas key\nhas key\n100\nhas key\nhas key\n100\nhas key\nhas key\n99\nhas key\n100\nhas key\nhas key\n100\nhas key\nhas key\n100\nhas key\n101\nhas key\nhas key\n101\nhas key\nhas key\n101\nhas key\n102\nhas key\nhas key\n101\nhas key\nhas key\n101\nhas key\nhas key\n100\nhas key\nhas key\n100\nhas key\nhas key\n99\nhas key\nhas key\n99\nhas key\nhas key\n99\nhas key\nhas key\n99\nhas key\nhas key\n99\nhas key\nhas key\n99\nhas key\nhas key\n98\nhas key\nhas key\n98\nhas key\nhas key\n98\nhas key\nhas key\n98\nhas key\nhas key\n98\nhas key\nhas key\n98\nhas key\nhas key\n98\nhas key\nhas key\n98\nhas key\nhas key\n97\nhas key\nhas key\n97\nhas key\nhas key\n97\nhas key\nhas key\n97\nhas key\n98\nhas key\nhas key\n98\nhas key\nhas key\n98\nhas key\n99\nhas key\nhas key\n98\nhas key\nhas key\n98\nhas key\nhas key\n97\nhas key\nhas key\n97\nhas key\nhas key\n97\nhas key\nhas key\n97\nhas key\nhas key\n97\nhas key\nhas key\n97\nhas key\nhas key\n96\nhas key\nhas key\n96\nhas key\nhas key\n96\nhas key\nhas key\n96\nhas key\n97\nhas key\nhas key\n97\nhas key\nhas key\n97\nhas key\n98\n100\nhas key\nhas key\n100\nhas key\n101\nhas key\nhas key\n101\nhas key\nhas key\n100\nhas key\nhas key\n100\nhas key\nhas key\n100\nhas key\nhas key\n100\nhas key\nhas key\n100\nhas key\nhas key\n100\nhas key\nhas key\n99\nhas key\nhas key\n99\nhas key\nhas key\n99\nhas key\nhas key\n99\nhas key\nhas key\n99\nhas key\nhas key\n99\nhas key\nhas key\n98\n100\nhas key\nhas key\n100\nhas key\nhas key\n100\nhas key\nhas key\n100\nhas key\nhas key\n100\nhas key\n101\nhas key\nhas key\n101\nhas key\nhas key\n100\nhas key\nhas key\n100\nhas key\nhas key\n100\nhas key\nhas key\n100\nhas key\n101\nhas key\nhas key\n101\nhas key\nhas key\n101\n103\nhas key\n104\nhas key\nhas key\n104\nhas key\nhas key\n103\nhas key\nhas key\n103\nhas key\nhas key\n103\nhas key\nhas key\n103\nhas key\nhas key\n102\nhas key\n103\nhas key\nhas key\n103\nhas key\nhas key\n103\nhas key\n104\nhas key\nhas key\n104\nhas key\nhas key\n101\nhas key\nhas key\n101\nhas key\nhas key\n101\nhas key\nhas key\n101\nhas key\nhas key\n101\nhas key\nhas key\n101\nhas key\nhas key\n100\nhas key\nhas key\n100\nhas key\nhas key\n100\nhas key\nhas key\n100\nhas key\n101\nhas key\nhas key\n101\nhas key\nhas key\n99\nhas key\nhas key\n99\nhas key\nhas key\n99\nhas key\nhas key\n99\nhas key\nhas key\n99\nhas key\nhas key\n99\nhas key\nhas key\n99\nhas key\nhas key"
     ]
    },
    {
     "name": "stdout",
     "output_type": "stream",
     "text": [
      "\n99\nhas key\nhas key\n99\nhas key\nhas key\n99\nhas key\nhas key\n98\nhas key\nhas key\n98\nhas key\nhas key\n97\nhas key\nhas key\n97\nhas key\nhas key\n97\nhas key\nhas key\n97\nhas key\nhas key\n97\nhas key\nhas key\n97\nhas key\nhas key\n97\nhas key\nhas key\n97\nhas key\nhas key\n96\n98\nhas key\nhas key\n98\nhas key\nhas key\n98\nhas key\nhas key\n98\nhas key\nhas key\n98\nhas key\n99\nhas key\nhas key\n99\nhas key\nhas key\n98\nhas key\nhas key\n98\nhas key\nhas key\n98\nhas key\nhas key\n98\nhas key\n99\nhas key\nhas key\n99\nhas key\nhas key\n99\n101\nhas key\n102\nhas key\nhas key\n102\nhas key\nhas key\n101\nhas key\nhas key\n101\nhas key\nhas key\n101\nhas key\nhas key\n101\nhas key\nhas key\n100\nhas key\n101\nhas key\nhas key\n101\nhas key\nhas key\n101\nhas key\n102\nhas key\nhas key\n102\nhas key\nhas key\n99\nhas key\nhas key\n99\nhas key\nhas key\n99\nhas key\nhas key\n99\nhas key\nhas key\n99\nhas key\nhas key\n99\nhas key\nhas key\n98\nhas key\nhas key\n98\nhas key\nhas key\n98\nhas key\nhas key\n98\nhas key\n99\nhas key\nhas key\n99\nhas key\nhas key\n97\nhas key\nhas key\n97\nhas key\nhas key\n97\nhas key\nhas key\n97\nhas key\nhas key\n97\nhas key\nhas key\n97\nhas key\nhas key\n97\nhas key\nhas key\n97\nhas key\nhas key\n97\nhas key\nhas key\n97\nhas key\nhas key\n96\nhas key\nhas key\n96\nhas key\nhas key\n95\nhas key\nhas key\n95\nhas key\nhas key\n95\nhas key\nhas key\n95\nhas key\nhas key\n95\nhas key\nhas key\n95\nhas key\nhas key\n95\nhas key\nhas key\n95\nhas key\nhas key\n95\nhas key\nhas key\n95\nhas key\nhas key\n95\nhas key\nhas key\n95\nhas key\nhas key\n95\nhas key\nhas key\n95\nhas key\nhas key\n94\nhas key\nhas key\n94\nhas key\nhas key\n94\nhas key\nhas key\n94\nhas key\nhas key\n94\nhas key\nhas key\n94\nhas key\nhas key\n94\nhas key\nhas key\n94\nhas key\nhas key\n94\nhas key\nhas key\n94\nhas key\nhas key\n94\nhas key\nhas key\n94\nhas key\nhas key\n93\nhas key\nhas key\n93\nhas key\n94\nhas key\nhas key\n94\nhas key\nhas key\n94\nhas key\nhas key\n94\nhas key\nhas key\n94\n96\nhas key\nhas key\n96\n98\nhas key\n99\nhas key\nhas key\n99\nhas key\nhas key\n98\nhas key\nhas key\n98\nhas key\nhas key\n98\nhas key\nhas key\n98\nhas key\nhas key\n98\nhas key\nhas key\n98\nhas key\nhas key\n98\nhas key\nhas key\n98\nhas key\nhas key\n97\nhas key\nhas key\n97\nhas key\n98\nhas key\nhas key\n98\nhas key\nhas key\n98\nhas key\nhas key\n98\nhas key\nhas key\n98\n100\nhas key\n101\nhas key\nhas key\n101\nhas key\nhas key\n100\nhas key\nhas key\n100\nhas key\nhas key\n100\nhas key\nhas key\n100\nhas key\nhas key\n100\nhas key\nhas key\n100\nhas key\nhas key\n99\nhas key\nhas key\n99\nhas key\n100\nhas key\nhas key\n100\nhas key\nhas key\n100\nhas key\nhas key\n100\nhas key\nhas key\n98\nhas key\nhas key\n98\nhas key\nhas key\n98\nhas key\nhas key\n98\nhas key\nhas key\n98\nhas key\nhas key\n98\nhas key\nhas key\n97\nhas key\nhas key\n97\nhas key\n98\nhas key\nhas key\n98\nhas key\nhas key\n98\nhas key\nhas key\n98\nhas key\nhas key\n96\nhas key\nhas key\n96\nhas key\nhas key\n96\nhas key\nhas key\n96\nhas key\nhas key\n96\nhas key\nhas key\n96\nhas key\nhas key\n96\nhas key\nhas key\n96\nhas key\nhas key\n96\nhas key\nhas key\n96\nhas key\nhas key\n95\nhas key\nhas key\n95\nhas key\n96\nhas key\nhas key\n96\nhas key\nhas key\n96\nhas key\nhas key\n96\nhas key\nhas key\n96\nhas key\n97\nhas key\nhas key\n"
     ]
    },
    {
     "ename": "KeyboardInterrupt",
     "evalue": "",
     "traceback": [
      "\u001b[0;31m---------------------------------------------------------------------------\u001b[0m",
      "\u001b[0;31mKeyboardInterrupt\u001b[0m                         Traceback (most recent call last)",
      "\u001b[0;32m<ipython-input-26-98a90200adb1>\u001b[0m in \u001b[0;36m<module>\u001b[0;34m()\u001b[0m\n\u001b[1;32m     29\u001b[0m \u001b[0;34m\u001b[0m\u001b[0m\n\u001b[1;32m     30\u001b[0m \u001b[0;34m\u001b[0m\u001b[0m\n\u001b[0;32m---> 31\u001b[0;31m \u001b[0msolve\u001b[0m\u001b[0;34m(\u001b[0m\u001b[0mstatus\u001b[0m\u001b[0;34m)\u001b[0m\u001b[0;34m\u001b[0m\u001b[0m\n\u001b[0m",
      "\u001b[0;32m<ipython-input-26-98a90200adb1>\u001b[0m in \u001b[0;36msolve\u001b[0;34m(status)\u001b[0m\n\u001b[1;32m     10\u001b[0m         \u001b[0mcur_state\u001b[0m \u001b[0;34m=\u001b[0m \u001b[0msorted\u001b[0m\u001b[0;34m(\u001b[0m\u001b[0mtodo\u001b[0m\u001b[0;34m,\u001b[0m \u001b[0mkey\u001b[0m\u001b[0;34m=\u001b[0m\u001b[0;32mlambda\u001b[0m \u001b[0mx\u001b[0m\u001b[0;34m:\u001b[0m \u001b[0mlen\u001b[0m\u001b[0;34m(\u001b[0m\u001b[0mx\u001b[0m\u001b[0;34m.\u001b[0m\u001b[0mstate\u001b[0m\u001b[0;34m)\u001b[0m\u001b[0;34m)\u001b[0m\u001b[0;34m[\u001b[0m\u001b[0;36m0\u001b[0m\u001b[0;34m]\u001b[0m\u001b[0;34m\u001b[0m\u001b[0m\n\u001b[1;32m     11\u001b[0m         \u001b[0mtodo\u001b[0m\u001b[0;34m.\u001b[0m\u001b[0mremove\u001b[0m\u001b[0;34m(\u001b[0m\u001b[0mcur_state\u001b[0m\u001b[0;34m)\u001b[0m\u001b[0;34m\u001b[0m\u001b[0m\n\u001b[0;32m---> 12\u001b[0;31m         \u001b[0;32mfor\u001b[0m \u001b[0m_step\u001b[0m \u001b[0;32min\u001b[0m \u001b[0mstep\u001b[0m\u001b[0;34m(\u001b[0m\u001b[0mcur_state\u001b[0m\u001b[0;34m.\u001b[0m\u001b[0mstate\u001b[0m\u001b[0;34m,\u001b[0m \u001b[0mstatus\u001b[0m\u001b[0;34m.\u001b[0m\u001b[0mkeyState\u001b[0m\u001b[0;34m)\u001b[0m\u001b[0;34m:\u001b[0m\u001b[0;34m\u001b[0m\u001b[0m\n\u001b[0m\u001b[1;32m     13\u001b[0m             \u001b[0mprint\u001b[0m\u001b[0;34m(\u001b[0m\u001b[0mlen\u001b[0m\u001b[0;34m(\u001b[0m\u001b[0mtodo\u001b[0m\u001b[0;34m)\u001b[0m\u001b[0;34m)\u001b[0m\u001b[0;34m\u001b[0m\u001b[0m\n\u001b[1;32m     14\u001b[0m             \u001b[0mstate\u001b[0m \u001b[0;34m=\u001b[0m \u001b[0mdeepcopy\u001b[0m\u001b[0;34m(\u001b[0m\u001b[0mcur_state\u001b[0m\u001b[0;34m.\u001b[0m\u001b[0mstate\u001b[0m\u001b[0;34m)\u001b[0m\u001b[0;34m\u001b[0m\u001b[0m\n",
      "\u001b[0;32m<ipython-input-6-fd1b52c55dda>\u001b[0m in \u001b[0;36mstep\u001b[0;34m(self, keyState)\u001b[0m\n\u001b[1;32m      4\u001b[0m     \u001b[0;31m# for Quintessence use\u001b[0m\u001b[0;34m\u001b[0m\u001b[0;34m\u001b[0m\u001b[0m\n\u001b[1;32m      5\u001b[0m     \u001b[0mbuckets\u001b[0m \u001b[0;34m=\u001b[0m \u001b[0;34m{\u001b[0m\u001b[0;34m}\u001b[0m\u001b[0;34m\u001b[0m\u001b[0m\n\u001b[0;32m----> 6\u001b[0;31m     \u001b[0m_frees\u001b[0m \u001b[0;34m=\u001b[0m \u001b[0msorted\u001b[0m\u001b[0;34m(\u001b[0m\u001b[0;34m[\u001b[0m\u001b[0;34m(\u001b[0m\u001b[0mMarble\u001b[0m\u001b[0;34m[\u001b[0m\u001b[0mMARBLE_BY_SYMBOL\u001b[0m\u001b[0;34m[\u001b[0m\u001b[0mself\u001b[0m\u001b[0;34m[\u001b[0m\u001b[0mx\u001b[0m\u001b[0;34m]\u001b[0m\u001b[0;34m]\u001b[0m\u001b[0;34m]\u001b[0m\u001b[0;34m,\u001b[0m \u001b[0mx\u001b[0m\u001b[0;34m)\u001b[0m \u001b[0;32mfor\u001b[0m \u001b[0mx\u001b[0m \u001b[0;32min\u001b[0m \u001b[0mfrees\u001b[0m\u001b[0;34m(\u001b[0m\u001b[0mself\u001b[0m\u001b[0;34m)\u001b[0m\u001b[0;34m]\u001b[0m\u001b[0;34m)\u001b[0m\u001b[0;34m\u001b[0m\u001b[0m\n\u001b[0m\u001b[1;32m      7\u001b[0m     \u001b[0;32mfor\u001b[0m \u001b[0;34m(\u001b[0m\u001b[0mk\u001b[0m\u001b[0;34m,\u001b[0m \u001b[0mv\u001b[0m\u001b[0;34m)\u001b[0m \u001b[0;32min\u001b[0m \u001b[0m_frees\u001b[0m\u001b[0;34m:\u001b[0m\u001b[0;34m\u001b[0m\u001b[0m\n\u001b[1;32m      8\u001b[0m         \u001b[0mbuckets\u001b[0m\u001b[0;34m.\u001b[0m\u001b[0msetdefault\u001b[0m\u001b[0;34m(\u001b[0m\u001b[0mk\u001b[0m\u001b[0;34m,\u001b[0m \u001b[0;34m[\u001b[0m\u001b[0;34m]\u001b[0m\u001b[0;34m)\u001b[0m\u001b[0;34m.\u001b[0m\u001b[0mappend\u001b[0m\u001b[0;34m(\u001b[0m\u001b[0mv\u001b[0m\u001b[0;34m)\u001b[0m\u001b[0;34m\u001b[0m\u001b[0m\n",
      "\u001b[0;32m~/PycharmProjects/Tensorflow-Sigmar-Garden/State.py\u001b[0m in \u001b[0;36mfrees\u001b[0;34m(self)\u001b[0m\n\u001b[1;32m     41\u001b[0m \u001b[0;32mdef\u001b[0m \u001b[0mfrees\u001b[0m\u001b[0;34m(\u001b[0m\u001b[0mself\u001b[0m\u001b[0;34m)\u001b[0m\u001b[0;34m:\u001b[0m\u001b[0;34m\u001b[0m\u001b[0m\n\u001b[1;32m     42\u001b[0m     \u001b[0mresult\u001b[0m \u001b[0;34m=\u001b[0m \u001b[0;34m[\u001b[0m\u001b[0;34m]\u001b[0m\u001b[0;34m\u001b[0m\u001b[0m\n\u001b[0;32m---> 43\u001b[0;31m     \u001b[0;32mfor\u001b[0m \u001b[0;34m(\u001b[0m\u001b[0mx\u001b[0m\u001b[0;34m,\u001b[0m \u001b[0my\u001b[0m\u001b[0;34m)\u001b[0m \u001b[0;32min\u001b[0m \u001b[0mself\u001b[0m\u001b[0;34m:\u001b[0m\u001b[0;34m\u001b[0m\u001b[0m\n\u001b[0m\u001b[1;32m     44\u001b[0m         \u001b[0;32mif\u001b[0m \u001b[0mfree\u001b[0m\u001b[0;34m(\u001b[0m\u001b[0mself\u001b[0m\u001b[0;34m,\u001b[0m \u001b[0mx\u001b[0m\u001b[0;34m,\u001b[0m \u001b[0my\u001b[0m\u001b[0;34m)\u001b[0m\u001b[0;34m:\u001b[0m\u001b[0;34m\u001b[0m\u001b[0m\n\u001b[1;32m     45\u001b[0m             \u001b[0mresult\u001b[0m\u001b[0;34m.\u001b[0m\u001b[0mappend\u001b[0m\u001b[0;34m(\u001b[0m\u001b[0;34m(\u001b[0m\u001b[0mx\u001b[0m\u001b[0;34m,\u001b[0m \u001b[0my\u001b[0m\u001b[0;34m)\u001b[0m\u001b[0;34m)\u001b[0m\u001b[0;34m\u001b[0m\u001b[0m\n",
      "\u001b[0;32m~/PycharmProjects/Tensorflow-Sigmar-Garden/State.py\u001b[0m in \u001b[0;36mfree\u001b[0;34m(self, x, y)\u001b[0m\n\u001b[1;32m     49\u001b[0m \u001b[0;32mdef\u001b[0m \u001b[0mfree\u001b[0m\u001b[0;34m(\u001b[0m\u001b[0mself\u001b[0m\u001b[0;34m,\u001b[0m \u001b[0mx\u001b[0m\u001b[0;34m,\u001b[0m \u001b[0my\u001b[0m\u001b[0;34m)\u001b[0m\u001b[0;34m:\u001b[0m\u001b[0;34m\u001b[0m\u001b[0m\n\u001b[1;32m     50\u001b[0m     \u001b[0mneg\u001b[0m \u001b[0;34m=\u001b[0m \u001b[0mrepeat\u001b[0m\u001b[0;34m(\u001b[0m\u001b[0mneighbors\u001b[0m\u001b[0;34m(\u001b[0m\u001b[0mself\u001b[0m\u001b[0;34m,\u001b[0m \u001b[0mx\u001b[0m\u001b[0;34m,\u001b[0m \u001b[0my\u001b[0m\u001b[0;34m)\u001b[0m\u001b[0;34m,\u001b[0m \u001b[0;36m2\u001b[0m\u001b[0;34m)\u001b[0m\u001b[0;34m\u001b[0m\u001b[0m\n\u001b[0;32m---> 51\u001b[0;31m     \u001b[0mxs\u001b[0m \u001b[0;34m=\u001b[0m \u001b[0mnp\u001b[0m\u001b[0;34m.\u001b[0m\u001b[0mhstack\u001b[0m\u001b[0;34m(\u001b[0m\u001b[0mneg\u001b[0m\u001b[0;34m)\u001b[0m\u001b[0;34m\u001b[0m\u001b[0m\n\u001b[0m\u001b[1;32m     52\u001b[0m     \u001b[0;32mreturn\u001b[0m \u001b[0;34m(\u001b[0m\u001b[0;34m'-'\u001b[0m\u001b[0;34m,\u001b[0m \u001b[0;34m'-'\u001b[0m\u001b[0;34m,\u001b[0m \u001b[0;34m'-'\u001b[0m\u001b[0;34m)\u001b[0m \u001b[0;32min\u001b[0m \u001b[0mlist\u001b[0m\u001b[0;34m(\u001b[0m\u001b[0mzip\u001b[0m\u001b[0;34m(\u001b[0m\u001b[0;34m*\u001b[0m\u001b[0;34m(\u001b[0m\u001b[0mxs\u001b[0m\u001b[0;34m[\u001b[0m\u001b[0mi\u001b[0m\u001b[0;34m:\u001b[0m\u001b[0;34m]\u001b[0m \u001b[0;32mfor\u001b[0m \u001b[0mi\u001b[0m \u001b[0;32min\u001b[0m \u001b[0mrange\u001b[0m\u001b[0;34m(\u001b[0m\u001b[0;36m3\u001b[0m\u001b[0;34m)\u001b[0m\u001b[0;34m)\u001b[0m\u001b[0;34m)\u001b[0m\u001b[0;34m)\u001b[0m\u001b[0;34m\u001b[0m\u001b[0m\n\u001b[1;32m     53\u001b[0m \u001b[0;34m\u001b[0m\u001b[0m\n",
      "\u001b[0;31mKeyboardInterrupt\u001b[0m: "
     ],
     "output_type": "error"
    }
   ],
   "source": [
    "from copy import deepcopy, copy\n",
    "\n",
    "from State import State\n",
    "\n",
    "def solve(status):\n",
    "    todo = [status]\n",
    "    solutions = {str(status.state): []}\n",
    "    while len(solutions) > 0:\n",
    "        # eval\n",
    "        cur_state = sorted(todo, key=lambda x: len(x.state))[0]\n",
    "        todo.remove(cur_state)\n",
    "        for _step in step(cur_state.state, status.keyState):\n",
    "            print(len(todo))\n",
    "            state = deepcopy(cur_state.state)\n",
    "            for pos in _step:\n",
    "                if pos in state:\n",
    "                    state.pop(pos)\n",
    "                if str(state) in solutions:\n",
    "                    continue\n",
    "                todo += [State(state)]\n",
    "                solution = copy(solutions[str(cur_state.state)])\n",
    "                solution += _step\n",
    "                solutions[str(state)] = solution\n",
    "                if len(state) == 0:\n",
    "                    print(solutions)\n",
    "                    return solution\n",
    "    return None\n",
    "\n",
    "\n",
    "solve(status)\n"
   ]
  },
  {
   "cell_type": "code",
   "execution_count": null,
   "metadata": {},
   "outputs": [],
   "source": []
  }
 ],
 "metadata": {
  "kernelspec": {
   "display_name": "Python 2",
   "language": "python",
   "name": "python2"
  },
  "language_info": {
   "codemirror_mode": {
    "name": "ipython",
    "version": 2
   },
   "file_extension": ".py",
   "mimetype": "text/x-python",
   "name": "python",
   "nbconvert_exporter": "python",
   "pygments_lexer": "ipython2",
   "version": "2.7.6"
  }
 },
 "nbformat": 4,
 "nbformat_minor": 0
}
