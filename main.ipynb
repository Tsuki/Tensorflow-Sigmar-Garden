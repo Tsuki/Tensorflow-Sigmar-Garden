{
 "cells": [
  {
   "cell_type": "code",
   "execution_count": 12,
   "metadata": {
    "collapsed": false
   },
   "outputs": [
    {
     "name": "stdout",
     "output_type": "stream",
     "text": [
      "WARNING:tensorflow:Input graph does not contain a QueueRunner. That means predict yields forever. This is probably a mistake.\n"
     ]
    },
    {
     "name": "stdout",
     "output_type": "stream",
     "text": [
      "INFO:tensorflow:Restoring parameters from ./mnist_training/model.ckpt-1000\n"
     ]
    },
    {
     "name": "stdout",
     "output_type": "stream",
     "text": [
      "     e Q a v e a \n    - - - - a w - \n   - Q s f L s - - \n  - - w - a - w - - \n - - e w s - e I a - \nf m Q - - G e - a - Q \n f Q m w f - f f - v \n  S - w - w - m - a \n   e - f v a f T e \n    v - s - - w m \n     C - - - - e \n"
     ]
    }
   ],
   "source": [
    "import os\n",
    "\n",
    "from PIL import Image\n",
    "\n",
    "import main\n",
    "from Marble import Marble\n",
    "\n",
    "MARBLE_BY_SYMBOL = dict(zip([Marble.symbol(e) for e in Marble], [e.name for e in Marble]))\n",
    "\n",
    "status = main.init_image(Image.open(os.path.join(\"sample\", \"1.png\")).convert('LA'))\n",
    "print(status)\n"
   ]
  },
  {
   "cell_type": "code",
   "execution_count": 43,
   "metadata": {},
   "outputs": [
    {
     "name": "stdout",
     "output_type": "stream",
     "text": [
      "def neighbors\n['-', 'Q', '-', '-', '-', '-']\n"
     ]
    }
   ],
   "source": [
    "print(\"def neighbors\")\n",
    "x, y = 0, 0\n",
    "result = []\n",
    "for (dx, dy) in [(0, -1), (1, 0), (1, 1), (0, 1), (-1, 0), (-1, -1)]:\n",
    "    n = (x + dx, y + dy)\n",
    "    if n in status.state:\n",
    "        result.append(status.state[n])\n",
    "    else:\n",
    "        result.append('-')\n",
    "print(result)\n"
   ]
  },
  {
   "cell_type": "code",
   "execution_count": 33,
   "metadata": {},
   "outputs": [
    {
     "name": "stdout",
     "output_type": "stream",
     "text": [
      "free\n['m' 'm' '-' '-' '-' '-' '-' '-' '-' '-' 'w' 'w']\n[('m', 'm', '-'), ('m', '-', '-'), ('-', '-', '-'), ('-', '-', '-'), ('-', '-', '-'), ('-', '-', '-'), ('-', '-', '-'), ('-', '-', '-'), ('-', '-', 'w'), ('-', 'w', 'w')]\nTrue\n"
     ]
    }
   ],
   "source": [
    "import numpy as np\n",
    "\n",
    "print(\"def free\")\n",
    "neg = np.repeat(status.neighbors(x, y), 2)\n",
    "xs = np.hstack(neg)\n",
    "print(xs)\n",
    "print(list(zip(*(xs[i:] for i in range(3)))))\n",
    "print(('-', '-', '-') in list(zip(*(xs[i:] for i in range(3)))))\n"
   ]
  },
  {
   "cell_type": "code",
   "execution_count": 30,
   "metadata": {},
   "outputs": [
    {
     "name": "stdout",
     "output_type": "stream",
     "text": [
      "frees\n[(0, 0), (5, 0), (1, 2), (8, 4), (0, 5), (10, 5), (6, 9), (5, 10), (10, 10)]\n"
     ]
    }
   ],
   "source": [
    "print(\"def frees\")\n",
    "result = []\n",
    "for (x, y) in status.state:\n",
    "    if status.free(x, y):\n",
    "        result.append((x, y))\n",
    "print(result)\n"
   ]
  },
  {
   "cell_type": "code",
   "execution_count": 61,
   "metadata": {
    "collapsed": true
   },
   "outputs": [
    {
     "name": "stdout",
     "output_type": "stream",
     "text": [
      "def step\n{<Marble.Earth: 5>: [(0, 0), (10, 10)], <Marble.Air: 2>: [(5, 0), (8, 4)], <Marble.Quicksilver: 9>: [(1, 2), (10, 5)], <Marble.Fire: 3>: [(0, 5)], <Marble.Salt: 1>: [(6, 9)], <Marble.Copper: 13>: [(5, 10)]}\n"
     ]
    }
   ],
   "source": [
    "print(\"def step\")\n",
    "free = {}\n",
    "steps = []\n",
    "# frees = [(MARBLE_BY_SYMBOL[status.state[x]], x) for x in status.frees()]\n",
    "frees = [(Marble[MARBLE_BY_SYMBOL[status.state[x]]], x) for x in status.frees()]\n",
    "for (k, v) in frees:\n",
    "    free.setdefault(k, []).append(v)\n",
    "print(free)\n",
    "for a in frees:\n",
    "    for b in frees:\n",
    "        if a == b:\n",
    "            # remove duplicate \n",
    "            continue\n"
   ]
  },
  {
   "cell_type": "code",
   "execution_count": null,
   "metadata": {},
   "outputs": [],
   "source": []
  }
 ],
 "metadata": {
  "kernelspec": {
   "display_name": "Python 2",
   "language": "python",
   "name": "python2"
  },
  "language_info": {
   "codemirror_mode": {
    "name": "ipython",
    "version": 2
   },
   "file_extension": ".py",
   "mimetype": "text/x-python",
   "name": "python",
   "nbconvert_exporter": "python",
   "pygments_lexer": "ipython2",
   "version": "2.7.6"
  }
 },
 "nbformat": 4,
 "nbformat_minor": 0
}
